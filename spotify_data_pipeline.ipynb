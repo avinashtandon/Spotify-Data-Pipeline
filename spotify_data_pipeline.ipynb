{
 "cells": [
  {
   "cell_type": "code",
   "id": "initial_id",
   "metadata": {
    "collapsed": true,
    "ExecuteTime": {
     "end_time": "2025-05-13T19:05:27.045685Z",
     "start_time": "2025-05-13T19:05:24.202102Z"
    }
   },
   "source": "!pip3 install spotipy",
   "outputs": [
    {
     "name": "stdout",
     "output_type": "stream",
     "text": [
      "Collecting spotipy\r\n",
      "  Obtaining dependency information for spotipy from https://files.pythonhosted.org/packages/bd/3b/dde90e39c456f0d72397afd49d433f95c6a2fdbdcd829bcfc38cdbf6949a/spotipy-2.25.1-py3-none-any.whl.metadata\r\n",
      "  Downloading spotipy-2.25.1-py3-none-any.whl.metadata (5.1 kB)\r\n",
      "Collecting redis>=3.5.3 (from spotipy)\r\n",
      "  Obtaining dependency information for redis>=3.5.3 from https://files.pythonhosted.org/packages/28/5f/cf36360f80ae233bd1836442f5127818cfcfc7b1846179b60b2e9a4c45c9/redis-6.1.0-py3-none-any.whl.metadata\r\n",
      "  Downloading redis-6.1.0-py3-none-any.whl.metadata (10 kB)\r\n",
      "Requirement already satisfied: requests>=2.25.0 in ./.venv/lib/python3.12/site-packages (from spotipy) (2.32.3)\r\n",
      "Requirement already satisfied: urllib3>=1.26.0 in ./.venv/lib/python3.12/site-packages (from spotipy) (2.4.0)\r\n",
      "Requirement already satisfied: charset-normalizer<4,>=2 in ./.venv/lib/python3.12/site-packages (from requests>=2.25.0->spotipy) (3.4.2)\r\n",
      "Requirement already satisfied: idna<4,>=2.5 in ./.venv/lib/python3.12/site-packages (from requests>=2.25.0->spotipy) (3.10)\r\n",
      "Requirement already satisfied: certifi>=2017.4.17 in ./.venv/lib/python3.12/site-packages (from requests>=2.25.0->spotipy) (2025.4.26)\r\n",
      "Downloading spotipy-2.25.1-py3-none-any.whl (31 kB)\r\n",
      "Downloading redis-6.1.0-py3-none-any.whl (273 kB)\r\n",
      "\u001B[2K   \u001B[90m━━━━━━━━━━━━━━━━━━━━━━━━━━━━━━━━━━━━━━━━\u001B[0m \u001B[32m273.8/273.8 kB\u001B[0m \u001B[31m4.3 MB/s\u001B[0m eta \u001B[36m0:00:00\u001B[0ma \u001B[36m0:00:01\u001B[0m\r\n",
      "\u001B[?25hInstalling collected packages: redis, spotipy\r\n",
      "Successfully installed redis-6.1.0 spotipy-2.25.1\r\n",
      "\r\n",
      "\u001B[1m[\u001B[0m\u001B[34;49mnotice\u001B[0m\u001B[1;39;49m]\u001B[0m\u001B[39;49m A new release of pip is available: \u001B[0m\u001B[31;49m23.2.1\u001B[0m\u001B[39;49m -> \u001B[0m\u001B[32;49m25.1.1\u001B[0m\r\n",
      "\u001B[1m[\u001B[0m\u001B[34;49mnotice\u001B[0m\u001B[1;39;49m]\u001B[0m\u001B[39;49m To update, run: \u001B[0m\u001B[32;49mpip install --upgrade pip\u001B[0m\r\n"
     ]
    }
   ],
   "execution_count": 2
  },
  {
   "metadata": {
    "ExecuteTime": {
     "end_time": "2025-05-13T19:10:15.843260Z",
     "start_time": "2025-05-13T19:10:15.668491Z"
    }
   },
   "cell_type": "code",
   "source": [
    "import spotipy\n",
    "from spotipy.oauth2 import SpotifyClientCredentials"
   ],
   "id": "8fe310e95434e6ba",
   "outputs": [],
   "execution_count": 3
  },
  {
   "metadata": {
    "ExecuteTime": {
     "end_time": "2025-05-13T19:13:38.450830Z",
     "start_time": "2025-05-13T19:13:38.439815Z"
    }
   },
   "cell_type": "code",
   "source": "client_credentials_manager = SpotifyClientCredentials(client_id='168b128997194a57bdd45f49a7b76daa', client_secret='0ce77b14855144e0ad698022233dfc79')",
   "id": "47eeb2a495e8d97",
   "outputs": [],
   "execution_count": 4
  },
  {
   "metadata": {
    "ExecuteTime": {
     "end_time": "2025-05-13T19:44:47.939304Z",
     "start_time": "2025-05-13T19:44:47.927113Z"
    }
   },
   "cell_type": "code",
   "source": "sp = spotipy.Spotify(client_credentials_manager = client_credentials_manager)",
   "id": "3f7299f653774dd",
   "outputs": [],
   "execution_count": 31
  },
  {
   "metadata": {
    "ExecuteTime": {
     "end_time": "2025-05-14T04:20:14.188216Z",
     "start_time": "2025-05-14T04:20:14.177760Z"
    }
   },
   "cell_type": "code",
   "source": "top_100_playlist_link ='https://open.spotify.com/playlist/2HyZ2MDGK505GnpSjZ1NDv'",
   "id": "59df62c16482cce6",
   "outputs": [],
   "execution_count": 58
  },
  {
   "metadata": {
    "ExecuteTime": {
     "end_time": "2025-05-14T04:20:16.323234Z",
     "start_time": "2025-05-14T04:20:16.317718Z"
    }
   },
   "cell_type": "code",
   "source": "playlist_URI = top_100_playlist_link.split('/')[-1].split('?')[0]",
   "id": "a26bff84cf825d8",
   "outputs": [],
   "execution_count": 59
  },
  {
   "metadata": {
    "ExecuteTime": {
     "end_time": "2025-05-14T04:24:05.268820Z",
     "start_time": "2025-05-14T04:24:04.476206Z"
    }
   },
   "cell_type": "code",
   "source": "data = sp.playlist_tracks(playlist_URI)",
   "id": "19060094bea050a7",
   "outputs": [],
   "execution_count": 61
  },
  {
   "metadata": {},
   "cell_type": "markdown",
   "source": [
    "playlist_link = \"https://open.spotify.com/playlist/37i9dQZEVXbNG2KDcFcKOF?si=1333723a6eff4b7f\"\n",
    "playlist_URI = playlist_link.split(\"/\")[-1].split(\"?\")[0]\n",
    "spotify_data = sp.playlist_tracks(playlist_URI)"
   ],
   "id": "241c43d759cd4aa5"
  },
  {
   "metadata": {
    "ExecuteTime": {
     "end_time": "2025-05-14T04:28:06.596638Z",
     "start_time": "2025-05-14T04:28:06.590895Z"
    }
   },
   "cell_type": "code",
   "source": "len(data['items'])",
   "id": "89f804aa271c3090",
   "outputs": [
    {
     "data": {
      "text/plain": [
       "100"
      ]
     },
     "execution_count": 66,
     "metadata": {},
     "output_type": "execute_result"
    }
   ],
   "execution_count": 66
  }
 ],
 "metadata": {
  "kernelspec": {
   "display_name": "Python 3",
   "language": "python",
   "name": "python3"
  },
  "language_info": {
   "codemirror_mode": {
    "name": "ipython",
    "version": 2
   },
   "file_extension": ".py",
   "mimetype": "text/x-python",
   "name": "python",
   "nbconvert_exporter": "python",
   "pygments_lexer": "ipython2",
   "version": "2.7.6"
  }
 },
 "nbformat": 4,
 "nbformat_minor": 5
}
